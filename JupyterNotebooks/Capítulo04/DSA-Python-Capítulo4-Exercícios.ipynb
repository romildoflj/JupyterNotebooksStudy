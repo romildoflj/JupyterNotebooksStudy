{
 "cells": [
  {
   "cell_type": "markdown",
   "metadata": {},
   "source": [
    "# <font color='blue'>Data Science Academy - Python Fundamentos - Capítulo 4</font>\n",
    "\n",
    "## Download: http://github.com/dsacademybr"
   ]
  },
  {
   "cell_type": "markdown",
   "metadata": {},
   "source": [
    "binary.csv"
   ]
  },
  {
   "cell_type": "markdown",
   "metadata": {},
   "source": [
    "## Exercícios"
   ]
  },
  {
   "cell_type": "code",
   "execution_count": 4,
   "metadata": {},
   "outputs": [
    {
     "name": "stdout",
     "output_type": "stream",
     "text": [
      "2\n",
      "4\n",
      "6\n",
      "8\n",
      "10\n",
      "12\n",
      "14\n",
      "16\n",
      "18\n",
      "20\n"
     ]
    }
   ],
   "source": [
    "# Exercício 1 - Crie uma função que imprima a sequência de números pares entre 1 e 20 (a função não recebe parâmetro) e \n",
    "# depois faça uma chamada à função para listar os números\n",
    "def evensOneTwenty():\n",
    "        for evens in range(2,21,2):\n",
    "            print(evens)\n",
    "        return;\n",
    "evensOneTwenty()"
   ]
  },
  {
   "cell_type": "code",
   "execution_count": 10,
   "metadata": {},
   "outputs": [
    {
     "name": "stdout",
     "output_type": "stream",
     "text": [
      "ALL THE HONNOR...\n"
     ]
    }
   ],
   "source": [
    "# Exercício 2 - Crie uam função que receba uma string como argumento e retorne a mesma string em letras maiúsculas.\n",
    "# Faça uma chamada à função, passando como parâmetro uma string\n",
    "def toUpper(st):\n",
    "    return st.upper();\n",
    "print (toUpper(\"All the Honnor...\"))\n",
    "    "
   ]
  },
  {
   "cell_type": "code",
   "execution_count": 13,
   "metadata": {},
   "outputs": [
    {
     "name": "stdout",
     "output_type": "stream",
     "text": [
      "['All', ' the', ' honnor', ' and all the', ' adoration', ' to God']\n",
      "['All', ' the', ' honnor', ' and all the', ' adoration', ' to God']\n"
     ]
    }
   ],
   "source": [
    "# Exercício 3 - Crie uma função que receba como parâmetro uma lista de 4 elementos, adicione 2 elementos a lista e \n",
    "# imprima a lista\n",
    "\n",
    "def printList(messages):\n",
    "    messages.append(' adoration')\n",
    "    messages.append(' to God')\n",
    "    print(messages)\n",
    "    \n",
    "\n",
    "messages = ['All', ' the', ' honnor', ' and all the']\n",
    "printList(messages)\n",
    "print(messages)\n"
   ]
  },
  {
   "cell_type": "code",
   "execution_count": 16,
   "metadata": {},
   "outputs": [
    {
     "name": "stdout",
     "output_type": "stream",
     "text": [
      "1\n",
      "()\n",
      "2\n",
      "(3, 4)\n"
     ]
    }
   ],
   "source": [
    "# Exercício 4 - Crie uma função que receba um argumento formal e uma possível lista de elementos. Faça duas chamadas \n",
    "# à função, com apenas 1 elemento e na segunda chamada com 4 elementos\n",
    "def testVarTuple(arg1, *varTuple):\n",
    "    print(arg1)\n",
    "    print(varTuple)\n",
    "    return;\n",
    "testVarTuple(1)\n",
    "testVarTuple(2,3,4)"
   ]
  },
  {
   "cell_type": "code",
   "execution_count": 18,
   "metadata": {},
   "outputs": [
    {
     "data": {
      "text/plain": [
       "5"
      ]
     },
     "execution_count": 18,
     "metadata": {},
     "output_type": "execute_result"
    }
   ],
   "source": [
    "# Exercício 5 - Crie uma função anônima e atribua seu retorno a uma variável chamada soma. A expressão vai receber 2 \n",
    "# números como parâmetro e retornar a soma deles\n",
    "soma = lambda x,y: x+y\n",
    "soma(1,4)"
   ]
  },
  {
   "cell_type": "code",
   "execution_count": 26,
   "metadata": {},
   "outputs": [
    {
     "name": "stdout",
     "output_type": "stream",
     "text": [
      "30 tem Bob anos.\n",
      "Bob tem 30 anos.\n"
     ]
    }
   ],
   "source": [
    "# Exercício 6 - Execute o código abaixo e certifique-se que compreende a diferença entre variável global e local\n",
    "def imprimeDados( nome, idade ):\n",
    "    print (\"%s tem %s anos.\" %(nome, idade))\n",
    "    return;\n",
    "\n",
    "imprimeDados( 30, \"Bob\" )\n",
    "\n",
    "imprimeDados( idade=30, nome=\"Bob\" )"
   ]
  },
  {
   "cell_type": "code",
   "execution_count": 23,
   "metadata": {},
   "outputs": [
    {
     "name": "stdout",
     "output_type": "stream",
     "text": [
      "          admit         gre       gpa      rank\n",
      "count  5.000000    5.000000  5.000000  5.000000\n",
      "mean   0.600000  616.000000  3.480000  3.000000\n",
      "std    0.547723  185.148589  0.421307  1.224745\n",
      "min    0.000000  380.000000  2.930000  1.000000\n",
      "25%    0.000000  520.000000  3.190000  3.000000\n",
      "50%    1.000000  640.000000  3.610000  3.000000\n",
      "75%    1.000000  660.000000  3.670000  4.000000\n",
      "max    1.000000  880.000000  4.000000  4.000000\n"
     ]
    }
   ],
   "source": [
    "# Exercício 7 - Crie uma função que receba o arquivo abaixo como argumento e retorne um resumo estatístico descritivo \n",
    "# do arquivo. Dica, use Pandas e um de seus métodos, describe()\n",
    "# Arquivo: \"binary.csv\"\n",
    "import pandas as pd\n",
    "def describeStatis(csv):\n",
    "    df = pd.read_csv(csv)\n",
    "    return df.describe()\n",
    "print( describeStatis(\"binary.csv\"))"
   ]
  },
  {
   "cell_type": "markdown",
   "metadata": {},
   "source": [
    "# Fim"
   ]
  },
  {
   "cell_type": "markdown",
   "metadata": {},
   "source": [
    "### Obrigado - Data Science Academy - <a href=http://facebook.com/dsacademy>facebook.com/dsacademybr</a>"
   ]
  }
 ],
 "metadata": {
  "kernelspec": {
   "display_name": "Python 3",
   "language": "python",
   "name": "python3"
  },
  "language_info": {
   "codemirror_mode": {
    "name": "ipython",
    "version": 3
   },
   "file_extension": ".py",
   "mimetype": "text/x-python",
   "name": "python",
   "nbconvert_exporter": "python",
   "pygments_lexer": "ipython3",
   "version": "3.6.4"
  }
 },
 "nbformat": 4,
 "nbformat_minor": 1
}
